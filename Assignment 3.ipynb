{
 "cells": [
  {
   "cell_type": "markdown",
   "id": "ba54b092",
   "metadata": {},
   "source": [
    "# Munasinghe Arachchige Chandina Nilukshi\n",
    "## Date : 2024/02/19"
   ]
  },
  {
   "cell_type": "markdown",
   "id": "f9de7d17",
   "metadata": {},
   "source": [
    "Write a lambda expression to get the product of two numbers.\n",
    "\n",
    "Run test for expression (5,6)\n",
    "\n",
    "Output:30"
   ]
  },
  {
   "cell_type": "code",
   "execution_count": 7,
   "id": "df27cb48",
   "metadata": {},
   "outputs": [
    {
     "name": "stdout",
     "output_type": "stream",
     "text": [
      "output : 30\n"
     ]
    }
   ],
   "source": [
    "x = lambda a, b : a * b\n",
    "print(\"output :\",x(5, 6))"
   ]
  },
  {
   "cell_type": "markdown",
   "id": "26688cb9",
   "metadata": {},
   "source": [
    "Write a function to get the area of a circle from the radius.\n",
    "\n",
    "Hint: remember to import the right modul for being able to calculate the area of the circle.\n",
    " \n",
    "Run test for function (10) \n",
    "\n",
    "Output : 314.1592653589793"
   ]
  },
  {
   "cell_type": "code",
   "execution_count": 9,
   "id": "f71091bf",
   "metadata": {},
   "outputs": [
    {
     "name": "stdout",
     "output_type": "stream",
     "text": [
      "Output: 314.1592653589793\n"
     ]
    }
   ],
   "source": [
    "import math as M\n",
    "\n",
    "def my_calc (radius):\n",
    "    area = M.pi*(radius**2)\n",
    "    print(\"Output:\", area)\n",
    "\n",
    "my_calc(10)"
   ]
  },
  {
   "cell_type": "markdown",
   "id": "c12c6caa",
   "metadata": {},
   "source": [
    "Build a simple calculator which can : add, substract, multiply, divide.\n",
    "\n",
    "Hint: solve by writing a function that takes as argument two numbers and the operation and returns the desired output.\n",
    "\n",
    "Run test for function (2,5,'d')\n",
    "\n",
    "Output: 0.4"
   ]
  },
  {
   "cell_type": "code",
   "execution_count": 16,
   "id": "08f20b1b",
   "metadata": {},
   "outputs": [
    {
     "name": "stdout",
     "output_type": "stream",
     "text": [
      "Number 1:2\n",
      "Number 2:5\n",
      "Operation:d\n",
      "0.4\n"
     ]
    }
   ],
   "source": [
    "num1 = int(input(\"Number 1:\"))\n",
    "num2 = int(input(\"Number 2:\"))\n",
    "operation = input(\"Operation:\")\n",
    "\n",
    "\n",
    "def calc(a, b, operand):\n",
    "    if operand == \"a\":\n",
    "        sum = a + b\n",
    "        print(sum)\n",
    "\n",
    "    elif operand == \"s\":\n",
    "        sum = a - b\n",
    "        print(sum)\n",
    "\n",
    "    elif operand == \"m\":\n",
    "        sum = a * b\n",
    "        print(sum)\n",
    "    \n",
    "    elif operand == \"d\":\n",
    "        sum = a / b\n",
    "        print(sum)\n",
    "    \n",
    "    else:\n",
    "        print(\"Wrong operation\")\n",
    "\n",
    "\n",
    "calc(num1, num2, operation)"
   ]
  },
  {
   "cell_type": "markdown",
   "id": "a772ee3e",
   "metadata": {},
   "source": [
    "Define a class named Rectangle which can be constructed by a length and width.\n",
    "The Rectangle class has a method which can compute the area.\n",
    "\n",
    "Run test for      r = Rectangle(5,10)\n",
    "            \n",
    "                  r.area()\n",
    "\n",
    "Output:50              "
   ]
  },
  {
   "cell_type": "code",
   "execution_count": 17,
   "id": "3a11495e",
   "metadata": {},
   "outputs": [
    {
     "name": "stdout",
     "output_type": "stream",
     "text": [
      "50\n"
     ]
    }
   ],
   "source": [
    "class Rectangle:\n",
    "    def __init__(self, length, width):\n",
    "        self.length = length\n",
    "        self.width = width\n",
    "    \n",
    "    def area(self):\n",
    "        area = self.length * self.width\n",
    "        print(area)\n",
    "\n",
    "r = Rectangle(5,10)\n",
    "r.area()"
   ]
  },
  {
   "cell_type": "markdown",
   "id": "e7a1dbbc",
   "metadata": {},
   "source": [
    "Define a class named Shape and its subclass Square.\n",
    "\n",
    "Shape objects can be consrtucted by name and length has an area function wich return 0 \n",
    "\n",
    "Square subclass has an init function which take a length and name as argument and has an area method and a describe method what prints the name of the shape.\n",
    "\n",
    "Print the area from square class.\n",
    "\n",
    "Run test for:   s= Square ('square',5)\n",
    "                print(s.area())\n",
    "                \n",
    "Output:   The area is:\n",
    "\n",
    "           25\n",
    "              \n",
    "         This is a : square    \n",
    "\n",
    "\n",
    "\n",
    "\n",
    "\n",
    "\n",
    "\n"
   ]
  },
  {
   "cell_type": "code",
   "execution_count": 26,
   "id": "4f3d30ea",
   "metadata": {},
   "outputs": [
    {
     "name": "stdout",
     "output_type": "stream",
     "text": [
      "The area is:\n",
      "     25\n",
      "This is a: square\n"
     ]
    }
   ],
   "source": [
    "class Shape:\n",
    "    def __init__ (self, name, length):\n",
    "        self.length = length\n",
    "        self.name = name\n",
    "    def area():\n",
    "        return 0\n",
    "\n",
    "class Square(Shape):\n",
    "    def __init__ (self, name, length):\n",
    "        super().__init__(name, length)\n",
    "    \n",
    "    def area(self):\n",
    "        return self.length ** 2\n",
    "    \n",
    "    def describe(self):\n",
    "        return self.name\n",
    "\n",
    "s = Square('square',5)\n",
    "print(\"The area is:\")\n",
    "print(\"    \",s.area())\n",
    "print(\"This is a:\",s.describe())"
   ]
  },
  {
   "cell_type": "code",
   "execution_count": null,
   "id": "dfa596d4",
   "metadata": {},
   "outputs": [],
   "source": []
  }
 ],
 "metadata": {
  "kernelspec": {
   "display_name": "Python 3 (ipykernel)",
   "language": "python",
   "name": "python3"
  },
  "language_info": {
   "codemirror_mode": {
    "name": "ipython",
    "version": 3
   },
   "file_extension": ".py",
   "mimetype": "text/x-python",
   "name": "python",
   "nbconvert_exporter": "python",
   "pygments_lexer": "ipython3",
   "version": "3.9.12"
  }
 },
 "nbformat": 4,
 "nbformat_minor": 5
}
